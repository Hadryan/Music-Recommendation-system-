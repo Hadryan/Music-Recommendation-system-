{
 "cells": [
  {
   "cell_type": "markdown",
   "metadata": {},
   "source": [
    "## lets predict music genre"
   ]
  },
  {
   "cell_type": "code",
   "execution_count": 20,
   "metadata": {},
   "outputs": [],
   "source": [
    "music = pd.read_csv('music.csv')"
   ]
  },
  {
   "cell_type": "code",
   "execution_count": 23,
   "metadata": {},
   "outputs": [
    {
     "data": {
      "text/html": [
       "<div>\n",
       "<style scoped>\n",
       "    .dataframe tbody tr th:only-of-type {\n",
       "        vertical-align: middle;\n",
       "    }\n",
       "\n",
       "    .dataframe tbody tr th {\n",
       "        vertical-align: top;\n",
       "    }\n",
       "\n",
       "    .dataframe thead th {\n",
       "        text-align: right;\n",
       "    }\n",
       "</style>\n",
       "<table border=\"1\" class=\"dataframe\">\n",
       "  <thead>\n",
       "    <tr style=\"text-align: right;\">\n",
       "      <th></th>\n",
       "      <th>age</th>\n",
       "      <th>gender</th>\n",
       "    </tr>\n",
       "  </thead>\n",
       "  <tbody>\n",
       "    <tr>\n",
       "      <th>count</th>\n",
       "      <td>18.000000</td>\n",
       "      <td>18.000000</td>\n",
       "    </tr>\n",
       "    <tr>\n",
       "      <th>mean</th>\n",
       "      <td>27.944444</td>\n",
       "      <td>0.500000</td>\n",
       "    </tr>\n",
       "    <tr>\n",
       "      <th>std</th>\n",
       "      <td>5.127460</td>\n",
       "      <td>0.514496</td>\n",
       "    </tr>\n",
       "    <tr>\n",
       "      <th>min</th>\n",
       "      <td>20.000000</td>\n",
       "      <td>0.000000</td>\n",
       "    </tr>\n",
       "    <tr>\n",
       "      <th>25%</th>\n",
       "      <td>25.000000</td>\n",
       "      <td>0.000000</td>\n",
       "    </tr>\n",
       "    <tr>\n",
       "      <th>50%</th>\n",
       "      <td>28.000000</td>\n",
       "      <td>0.500000</td>\n",
       "    </tr>\n",
       "    <tr>\n",
       "      <th>75%</th>\n",
       "      <td>31.000000</td>\n",
       "      <td>1.000000</td>\n",
       "    </tr>\n",
       "    <tr>\n",
       "      <th>max</th>\n",
       "      <td>37.000000</td>\n",
       "      <td>1.000000</td>\n",
       "    </tr>\n",
       "  </tbody>\n",
       "</table>\n",
       "</div>"
      ],
      "text/plain": [
       "             age     gender\n",
       "count  18.000000  18.000000\n",
       "mean   27.944444   0.500000\n",
       "std     5.127460   0.514496\n",
       "min    20.000000   0.000000\n",
       "25%    25.000000   0.000000\n",
       "50%    28.000000   0.500000\n",
       "75%    31.000000   1.000000\n",
       "max    37.000000   1.000000"
      ]
     },
     "execution_count": 23,
     "metadata": {},
     "output_type": "execute_result"
    }
   ],
   "source": [
    "music.describe()"
   ]
  },
  {
   "cell_type": "code",
   "execution_count": 24,
   "metadata": {},
   "outputs": [
    {
     "data": {
      "text/html": [
       "<div>\n",
       "<style scoped>\n",
       "    .dataframe tbody tr th:only-of-type {\n",
       "        vertical-align: middle;\n",
       "    }\n",
       "\n",
       "    .dataframe tbody tr th {\n",
       "        vertical-align: top;\n",
       "    }\n",
       "\n",
       "    .dataframe thead th {\n",
       "        text-align: right;\n",
       "    }\n",
       "</style>\n",
       "<table border=\"1\" class=\"dataframe\">\n",
       "  <thead>\n",
       "    <tr style=\"text-align: right;\">\n",
       "      <th></th>\n",
       "      <th>age</th>\n",
       "      <th>gender</th>\n",
       "      <th>genre</th>\n",
       "    </tr>\n",
       "  </thead>\n",
       "  <tbody>\n",
       "    <tr>\n",
       "      <th>13</th>\n",
       "      <td>27</td>\n",
       "      <td>0</td>\n",
       "      <td>Acoustic</td>\n",
       "    </tr>\n",
       "    <tr>\n",
       "      <th>14</th>\n",
       "      <td>30</td>\n",
       "      <td>0</td>\n",
       "      <td>Acoustic</td>\n",
       "    </tr>\n",
       "    <tr>\n",
       "      <th>15</th>\n",
       "      <td>31</td>\n",
       "      <td>0</td>\n",
       "      <td>Classical</td>\n",
       "    </tr>\n",
       "    <tr>\n",
       "      <th>16</th>\n",
       "      <td>34</td>\n",
       "      <td>0</td>\n",
       "      <td>Classical</td>\n",
       "    </tr>\n",
       "    <tr>\n",
       "      <th>17</th>\n",
       "      <td>35</td>\n",
       "      <td>0</td>\n",
       "      <td>Classical</td>\n",
       "    </tr>\n",
       "  </tbody>\n",
       "</table>\n",
       "</div>"
      ],
      "text/plain": [
       "    age  gender      genre\n",
       "13   27       0   Acoustic\n",
       "14   30       0   Acoustic\n",
       "15   31       0  Classical\n",
       "16   34       0  Classical\n",
       "17   35       0  Classical"
      ]
     },
     "execution_count": 24,
     "metadata": {},
     "output_type": "execute_result"
    }
   ],
   "source": [
    "music.tail()"
   ]
  },
  {
   "cell_type": "code",
   "execution_count": 27,
   "metadata": {},
   "outputs": [],
   "source": [
    "# lets import our library\n",
    "from sklearn.tree import DecisionTreeClassifier\n",
    "from sklearn.model_selection import train_test_split\n",
    "from sklearn.metrics import accuracy_score"
   ]
  },
  {
   "cell_type": "code",
   "execution_count": 77,
   "metadata": {},
   "outputs": [
    {
     "data": {
      "text/plain": [
       "[Text(209.25, 190.26, 'X[0] <= 30.5\\ngini = 0.735\\nsamples = 14\\nvalue = [2, 6, 2, 2, 2]'),\n",
       " Text(167.4, 135.9, 'X[1] <= 0.5\\ngini = 0.75\\nsamples = 8\\nvalue = [2, 0, 2, 2, 2]'),\n",
       " Text(83.7, 81.53999999999999, 'X[0] <= 26.0\\ngini = 0.5\\nsamples = 4\\nvalue = [2, 0, 2, 0, 0]'),\n",
       " Text(41.85, 27.180000000000007, 'gini = 0.0\\nsamples = 2\\nvalue = [0, 0, 2, 0, 0]'),\n",
       " Text(125.55000000000001, 27.180000000000007, 'gini = 0.0\\nsamples = 2\\nvalue = [2, 0, 0, 0, 0]'),\n",
       " Text(251.10000000000002, 81.53999999999999, 'X[0] <= 25.5\\ngini = 0.5\\nsamples = 4\\nvalue = [0, 0, 0, 2, 2]'),\n",
       " Text(209.25, 27.180000000000007, 'gini = 0.0\\nsamples = 2\\nvalue = [0, 0, 0, 2, 0]'),\n",
       " Text(292.95, 27.180000000000007, 'gini = 0.0\\nsamples = 2\\nvalue = [0, 0, 0, 0, 2]'),\n",
       " Text(251.10000000000002, 135.9, 'gini = 0.0\\nsamples = 6\\nvalue = [0, 6, 0, 0, 0]')]"
      ]
     },
     "execution_count": 77,
     "metadata": {},
     "output_type": "execute_result"
    },
    {
     "data": {
      "image/png": "[encoded data removed]",
      "text/plain": [
       "<Figure size 432x288 with 1 Axes>"
      ]
     },
     "metadata": {
      "needs_background": "light"
     },
     "output_type": "display_data"
    }
   ],
   "source": [
    "X = music.drop(columns=['genre'])\n",
    "Y = music['genre']\n",
    "\n",
    "x_train, x_test, y_train, y_test = train_test_split(X, Y, test_size=0.2)\n",
    "model = DecisionTreeClassifier()\n",
    "model.fit(x_train, y_train)\n",
    "\n",
    "predictions = model.predict(x_test)\n",
    "predictions\n",
    "\n",
    "score = accuracy_score(y_test, predictions)\n",
    "score # 100% model\n",
    "\n",
    "tree.plot_tree(model) # visualising the tree decision "
   ]
  },
  {
   "cell_type": "code",
   "execution_count": 54,
   "metadata": {},
   "outputs": [
    {
     "data": {
      "text/plain": [
       "15    Classical\n",
       "12     Acoustic\n",
       "17    Classical\n",
       "6     Classical\n",
       "Name: genre, dtype: object"
      ]
     },
     "execution_count": 54,
     "metadata": {},
     "output_type": "execute_result"
    }
   ],
   "source": [
    "y_test"
   ]
  },
  {
   "cell_type": "code",
   "execution_count": 66,
   "metadata": {},
   "outputs": [
    {
     "data": {
      "text/plain": [
       "['music-recommender.joblib']"
      ]
     },
     "execution_count": 66,
     "metadata": {},
     "output_type": "execute_result"
    }
   ],
   "source": [
    "\n",
    "from sklearn.tree import DecisionTreeClassifier\n",
    "# from sklearn.externals import joblib # helpes with saving your model\n",
    "import sklearn.externals\n",
    "import joblib\n",
    "music = pd.read_csv('music.csv')\n",
    "\n",
    "X = music.drop(columns=['genre'])\n",
    "Y = music['genre']\n",
    "\n",
    "model = DecisionTreeClassifier() # please dont forget ()\n",
    "model.fit(X, Y)\n",
    "\n",
    "joblib.dump(model, 'music-recommender.joblib')\n",
    "\n",
    "#predictions = model.predict([[21,1]])\n"
   ]
  },
  {
   "cell_type": "code",
   "execution_count": 71,
   "metadata": {},
   "outputs": [
    {
     "data": {
      "text/plain": [
       "array(['HipHop'], dtype=object)"
      ]
     },
     "execution_count": 71,
     "metadata": {},
     "output_type": "execute_result"
    }
   ],
   "source": [
    "# loading the method\n",
    "model = joblib.load('music-recommender.joblib')\n",
    "predictions = model.predict([[16,1]])\n",
    "predictions"
   ]
  },
  {
   "cell_type": "code",
   "execution_count": 80,
   "metadata": {},
   "outputs": [
    {
     "data": {
      "text/plain": [
       "[Text(209.25, 190.26, 'age <= 30.5\\ngini = 0.778\\nsamples = 18\\nvalue = [3, 6, 3, 3, 3]\\nclass = Classical'),\n",
       " Text(167.4, 135.9, 'gender <= 0.5\\ngini = 0.75\\nsamples = 12\\nvalue = [3, 0, 3, 3, 3]\\nclass = Acoustic'),\n",
       " Text(83.7, 81.53999999999999, 'age <= 25.5\\ngini = 0.5\\nsamples = 6\\nvalue = [3, 0, 3, 0, 0]\\nclass = Acoustic'),\n",
       " Text(41.85, 27.180000000000007, 'gini = 0.0\\nsamples = 3\\nvalue = [0, 0, 3, 0, 0]\\nclass = Dance'),\n",
       " Text(125.55000000000001, 27.180000000000007, 'gini = 0.0\\nsamples = 3\\nvalue = [3, 0, 0, 0, 0]\\nclass = Acoustic'),\n",
       " Text(251.10000000000002, 81.53999999999999, 'age <= 25.5\\ngini = 0.5\\nsamples = 6\\nvalue = [0, 0, 0, 3, 3]\\nclass = HipHop'),\n",
       " Text(209.25, 27.180000000000007, 'gini = 0.0\\nsamples = 3\\nvalue = [0, 0, 0, 3, 0]\\nclass = HipHop'),\n",
       " Text(292.95, 27.180000000000007, 'gini = 0.0\\nsamples = 3\\nvalue = [0, 0, 0, 0, 3]\\nclass = Jazz'),\n",
       " Text(251.10000000000002, 135.9, 'gini = 0.0\\nsamples = 6\\nvalue = [0, 6, 0, 0, 0]\\nclass = Classical')]"
      ]
     },
     "execution_count": 80,
     "metadata": {},
     "output_type": "execute_result"
    },
    {
     "data": {
      "image/png": "[encoded data removed]",
      "text/plain": [
       "<Figure size 432x288 with 1 Axes>"
      ]
     },
     "metadata": {
      "needs_background": "light"
     },
     "output_type": "display_data"
    }
   ],
   "source": [
    "# Visualisation of a decision tree\n",
    "\n",
    "from sklearn.tree import DecisionTreeClassifier\n",
    "import pandas as pd\n",
    "from sklearn import tree\n",
    "\n",
    "music = pd.read_csv('music.csv')\n",
    "\n",
    "X = music.drop(columns=['genre'])\n",
    "Y = music['genre']\n",
    "\n",
    "model = DecisionTreeClassifier() # please dont forget ()\n",
    "model.fit(X, Y)\n",
    "\n",
    "TD_Visual = tree.export_graphviz(model, out_file='music-recommender.dot',\n",
    "                    feature_names=['age', 'gender'], # features refers to \n",
    "                    class_names=sorted(Y.unique()), # display the class\n",
    "                    label='all', # every box has label we can read\n",
    "                    rounded=True, # the visualisation box must have round corners\n",
    "                    filled=True) # each bar is filled with a color\n",
    "\n",
    "tree.plot_tree(model,\n",
    "                    feature_names=['age', 'gender'], # features refers to \n",
    "                    class_names=sorted(Y.unique()), # display the class\n",
    "                    label='all', # every box has label we can read\n",
    "                    rounded=True, # the visualisation box must have round corners\n",
    "                    filled=True) # each bar is filled with a color)"
   ]
  },
  {
   "cell_type": "code",
   "execution_count": null,
   "metadata": {},
   "outputs": [],
   "source": [
    "#Note, you use can  text editor to visualise the model (visualcode)"
   ]
  },
  {
   "cell_type": "code",
   "execution_count": null,
   "metadata": {},
   "outputs": [],
   "source": [
    " "
   ]
  },
  {
   "cell_type": "code",
   "execution_count": null,
   "metadata": {},
   "outputs": [],
   "source": []
  },
  {
   "cell_type": "code",
   "execution_count": null,
   "metadata": {},
   "outputs": [],
   "source": []
  },
  {
   "cell_type": "code",
   "execution_count": null,
   "metadata": {},
   "outputs": [],
   "source": []
  }
 ],
 "metadata": {
  "kernelspec": {
   "display_name": "Python 3",
   "language": "python",
   "name": "python3"
  },
  "language_info": {
   "codemirror_mode": {
    "name": "ipython",
    "version": 3
   },
   "file_extension": ".py",
   "mimetype": "text/x-python",
   "name": "python",
   "nbconvert_exporter": "python",
   "pygments_lexer": "ipython3",
   "version": "3.8.3"
  }
 },
 "nbformat": 4,
 "nbformat_minor": 4
}
